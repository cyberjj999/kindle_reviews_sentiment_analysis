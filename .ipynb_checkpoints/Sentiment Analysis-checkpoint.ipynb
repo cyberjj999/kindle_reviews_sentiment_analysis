{
 "cells": [
  {
   "cell_type": "markdown",
   "id": "9c3accd7-ea94-40e3-9bef-d0b4d3b3e88c",
   "metadata": {},
   "source": [
    "## Sentiment Analysis of Reviews using NLTK in Python\n",
    "- This project is created as part of the [#CrystalizeMyLearning](https://www.linkedin.com/pulse/introducing-crystalizemylearning-movement-lye-jia-jun/) movement I founded where I seek to learn through writing"
   ]
  },
  {
   "cell_type": "code",
   "execution_count": 1,
   "id": "092e1f44-e514-45e7-9fc8-a65dea25d36f",
   "metadata": {},
   "outputs": [],
   "source": [
    "import nltk"
   ]
  },
  {
   "cell_type": "markdown",
   "id": "002dae0d-4b52-4368-867d-fab1bc587613",
   "metadata": {
    "tags": []
   },
   "source": [
    "### Extracting Source Data\n",
    "- Source: https://www.amazon.sg/Kindle-Paperwhite-Waterproof-International-generation/dp/B07741S7Y8/ref=sr_1_18?keywords=kindle+paperwhite+2021&qid=1651924528&sprefix=kindle+paperwhite%2Caps%2C323&sr=8-18#customerReviews"
   ]
  },
  {
   "cell_type": "code",
   "execution_count": 2,
   "id": "91d716a7-be83-4620-af1f-95f8c03107b4",
   "metadata": {
    "scrolled": true,
    "tags": []
   },
   "outputs": [],
   "source": [
    "with open(\"kindle_reviews.txt\", encoding='utf-8') as f:\n",
    "    reviews = f.read()\n",
    "    review_list = reviews.split('\\n\\n')"
   ]
  },
  {
   "cell_type": "code",
   "execution_count": 3,
   "id": "12a16baf-625f-4ecb-b3d5-0683a5aa494d",
   "metadata": {
    "tags": []
   },
   "outputs": [
    {
     "data": {
      "text/plain": [
       "\"I've been reading with an e-reader for years. Mostly a Kobo. Also have the Kobo Forma, great e-reader. But I was always curious about the Kindle. Now ordered the Kindle with Amazon.nl and I'm very happy with it! Nice small size. Fits almost in my pocket. Fantastic dictionaries and great ease of reading. I can see that there are years of experience with e-readers behind this. Super purchase.\""
      ]
     },
     "execution_count": 3,
     "metadata": {},
     "output_type": "execute_result"
    }
   ],
   "source": [
    "# show the last review on the review list\n",
    "review_list[-1]"
   ]
  },
  {
   "cell_type": "markdown",
   "id": "e78f1191-a90c-45bb-8bf3-9ff56ba715bf",
   "metadata": {
    "tags": []
   },
   "source": [
    "### Executing Sentiment Analysis Algorithm"
   ]
  },
  {
   "cell_type": "code",
   "execution_count": 4,
   "id": "a20d0959-92b3-4bf6-ac79-e05cd579a5a4",
   "metadata": {
    "scrolled": true,
    "tags": []
   },
   "outputs": [
    {
     "data": {
      "text/plain": [
       "['abound',\n",
       " 'abounds',\n",
       " 'abundance',\n",
       " 'abundant',\n",
       " 'accessable',\n",
       " 'accessible',\n",
       " 'acclaim',\n",
       " 'acclaimed',\n",
       " 'acclamation',\n",
       " 'accolade']"
      ]
     },
     "execution_count": 4,
     "metadata": {},
     "output_type": "execute_result"
    }
   ],
   "source": [
    "# Extract positive word list from positive.txt\n",
    "with open(\"positive.txt\") as f:\n",
    "    content = f.read()\n",
    "    positive_word_list = content.splitlines()\n",
    "    \n",
    "# Extract negative word list from negative.txt\n",
    "with open(\"negative.txt\") as f:\n",
    "    content = f.read()\n",
    "    negative_word_list = content.splitlines()\n",
    "\n",
    "positive_word_list[:10]"
   ]
  },
  {
   "cell_type": "markdown",
   "id": "33cacb1c-619f-4c84-a8ea-7edab1566a69",
   "metadata": {},
   "source": [
    "**The main sentiment analysis algorithm**"
   ]
  },
  {
   "cell_type": "code",
   "execution_count": 5,
   "id": "793d0689-64b5-430f-88e2-1cc444c784dc",
   "metadata": {
    "scrolled": true,
    "tags": []
   },
   "outputs": [],
   "source": [
    "review_sentiment_score_dict = {}\n",
    "\n",
    "for review in review_list: # iterate through each reivew\n",
    "    review_sentiment_score_dict[review] =  {\n",
    "        'sentiment_score': 0,\n",
    "        'positive_adj':[],\n",
    "        'negative_adj':[]\n",
    "    }\n",
    "    # score to track the sentiment value of this review\n",
    "    sentiment_score = 0\n",
    "    # tokenize the review paragraph to list of word tokens\n",
    "    word_list = nltk.word_tokenize(review)\n",
    "    # list containing predicted part of speech for each word\n",
    "    pos_list = nltk.pos_tag(word_list, tagset='universal')\n",
    "    # all the words that are identified as adjective    \n",
    "    adj_list = [word[0] for word in pos_list if word[1] == 'ADJ']\n",
    "    for adjective in adj_list: # iterate through each adjective\n",
    "        # add 1 to sentiment score for each positive adjective detected\n",
    "        if adjective.lower() in positive_word_list: \n",
    "            review_sentiment_score_dict[review]['positive_adj'].append(adjective)\n",
    "            sentiment_score+=1\n",
    "        # subtract 1 from sentiment score for each negative adjective detected\n",
    "        if adjective.lower() in negative_word_list: \n",
    "            review_sentiment_score_dict[review]['negative_adj'].append(adjective)\n",
    "            sentiment_score-=1\n",
    "            \n",
    "    # store review and its score into the dictionary\n",
    "    review_sentiment_score_dict[review]['sentiment_score'] = sentiment_score"
   ]
  },
  {
   "cell_type": "code",
   "execution_count": 6,
   "id": "49f67989-f20d-4faa-8632-a680e44353de",
   "metadata": {},
   "outputs": [
    {
     "name": "stdout",
     "output_type": "stream",
     "text": [
      "Sentiment Score: -1\n",
      "Positive Adjectives: []\n",
      "Negative Adjectives: ['bad']\n",
      "I owned 3 Kindles.\n",
      "This Kindle started acting wierd 2 months in. (No response to touch, phantom touch, auto page turn)\n",
      "The warranty and support is really bad. I can't return it. I can't get a replacement. I had to buy a new one, and get it refunded, and then arrange for shipment back. All just because I bought from Amazon.sg\n",
      "\n",
      "Sentiment Score: 1\n",
      "Positive Adjectives: ['impress']\n",
      "Negative Adjectives: []\n",
      "Hi folks! I just received my Kindle from Amazon within 9 days of ordering it from Singapore online and the package was well packed and secured from tampering.\n",
      "As I am a first time user I must say that I am truly impress as it is a really light weight device to hold and use. It does exactly what it is suppose to do which is to use it for reading. I use to use the Kindle app on my iPhone but I always got interrupted while reading as messages would pop up.\n",
      "Honestly, I have been hesitating for a long time in getting a Kindle as I like paper backs but with the ever increasing number of books that I have accumulated, I was running out of shelf space at home and so I took the plunge to get a Kindle and I must say, it’s a whole new experience which I am beginning to enjoy. I highly recommend this Kindle Paperwhite 2019 10th Generation 8GB model!\n",
      "\n",
      "Sentiment Score: 2\n",
      "Positive Adjectives: ['great', 'great']\n",
      "Negative Adjectives: []\n",
      "I’ve been a Kindle Paperwhite user for almost 10 years now. This is my second Paperwhite. I’m still a fan but there are elements of the old version which I prefer such as the ink display which is as close as you can get to a page of a real book. This new 10th Gen one is 300dpi and not quite as “inky”. I also found there’s a bit of a lag when assessing my library and entering my password to unlock the screen. Other than that, it’s still a great investment. The battery life is great. Overall, I don’t think there’s that much of a difference from my first Kindle (bought 8 years ago) but I love the ease of carrying my books with me wherever I go.\n",
      "\n",
      "Sentiment Score: 1\n",
      "Positive Adjectives: ['responsive']\n",
      "Negative Adjectives: []\n",
      "As a reader it does its job. However, 1. Presence of any images on a page caused an annoying flicker to all black before back to page 2. You should really have expected a product that’s been around so Long to work just a tad faster, be more responsive and I am just talking about flipping a page. 3. Which numbnut decided to put the power/sleep button on the BOTTOM so when you prop it up to read, or when hold it with your pinkie along the bottom to stabilise it, the unit goes to SLEEP?!?!?!?!!!!\n",
      "\n",
      "Sentiment Score: 2\n",
      "Positive Adjectives: ['great', 'fantastic', 'free']\n",
      "Negative Adjectives: ['slow']\n",
      "Generally the device met my expectations. 3 stars because the speed of the device is rather quite slow and I Guess should be expected in a device at this price point. Would be great if the lag of scrolling, changing pages is reduced.\n",
      "A software feature to allow borrowing books would be fantastic. Currently you are forced to buy books from amazon only. No borrowing. No free books.\n",
      "\n",
      "Sentiment Score: 4\n",
      "Positive Adjectives: ['great', 'happy', 'Fantastic', 'great']\n",
      "Negative Adjectives: []\n",
      "I've been reading with an e-reader for years. Mostly a Kobo. Also have the Kobo Forma, great e-reader. But I was always curious about the Kindle. Now ordered the Kindle with Amazon.nl and I'm very happy with it! Nice small size. Fits almost in my pocket. Fantastic dictionaries and great ease of reading. I can see that there are years of experience with e-readers behind this. Super purchase.\n",
      "\n"
     ]
    }
   ],
   "source": [
    "for review, info in review_sentiment_score_dict.items():\n",
    "    print('Sentiment Score:', info['sentiment_score'])\n",
    "    print('Positive Adjectives:', info['positive_adj'])\n",
    "    print('Negative Adjectives:', info['negative_adj'])\n",
    "    print(review + '\\n')"
   ]
  },
  {
   "cell_type": "markdown",
   "id": "4e028c40-052b-4ee7-ad2b-746f2b42bf75",
   "metadata": {
    "tags": []
   },
   "source": [
    "### Explanation of NLTK Methods"
   ]
  },
  {
   "cell_type": "markdown",
   "id": "59724e49-77fb-4111-98fa-cdb444d2a414",
   "metadata": {},
   "source": [
    "**nltk.word_tokenize()**\n",
    "- Tokenize paragraph of review into list of words"
   ]
  },
  {
   "cell_type": "code",
   "execution_count": 7,
   "id": "97403a36-a7f5-4fbb-bf28-3c68f3f87ee2",
   "metadata": {
    "scrolled": true,
    "tags": []
   },
   "outputs": [
    {
     "data": {
      "text/plain": [
       "['I',\n",
       " \"'ve\",\n",
       " 'been',\n",
       " 'reading',\n",
       " 'with',\n",
       " 'an',\n",
       " 'e-reader',\n",
       " 'for',\n",
       " 'years',\n",
       " '.',\n",
       " 'Mostly',\n",
       " 'a',\n",
       " 'Kobo',\n",
       " '.',\n",
       " 'Also',\n",
       " 'have',\n",
       " 'the',\n",
       " 'Kobo',\n",
       " 'Forma',\n",
       " ',',\n",
       " 'great',\n",
       " 'e-reader',\n",
       " '.',\n",
       " 'But',\n",
       " 'I',\n",
       " 'was',\n",
       " 'always',\n",
       " 'curious',\n",
       " 'about',\n",
       " 'the',\n",
       " 'Kindle',\n",
       " '.',\n",
       " 'Now',\n",
       " 'ordered',\n",
       " 'the',\n",
       " 'Kindle',\n",
       " 'with',\n",
       " 'Amazon.nl',\n",
       " 'and',\n",
       " 'I',\n",
       " \"'m\",\n",
       " 'very',\n",
       " 'happy',\n",
       " 'with',\n",
       " 'it',\n",
       " '!',\n",
       " 'Nice',\n",
       " 'small',\n",
       " 'size',\n",
       " '.',\n",
       " 'Fits',\n",
       " 'almost',\n",
       " 'in',\n",
       " 'my',\n",
       " 'pocket',\n",
       " '.',\n",
       " 'Fantastic',\n",
       " 'dictionaries',\n",
       " 'and',\n",
       " 'great',\n",
       " 'ease',\n",
       " 'of',\n",
       " 'reading',\n",
       " '.',\n",
       " 'I',\n",
       " 'can',\n",
       " 'see',\n",
       " 'that',\n",
       " 'there',\n",
       " 'are',\n",
       " 'years',\n",
       " 'of',\n",
       " 'experience',\n",
       " 'with',\n",
       " 'e-readers',\n",
       " 'behind',\n",
       " 'this',\n",
       " '.',\n",
       " 'Super',\n",
       " 'purchase',\n",
       " '.']"
      ]
     },
     "execution_count": 7,
     "metadata": {},
     "output_type": "execute_result"
    }
   ],
   "source": [
    "for review in review_list:\n",
    "    word_list = nltk.word_tokenize(review)\n",
    "word_list"
   ]
  },
  {
   "cell_type": "markdown",
   "id": "88ac4ba3-7e60-417b-b18d-8b72872f2525",
   "metadata": {},
   "source": [
    "**nltk.pos_tag()**\n",
    "- Tag the relevant part of speech for each word"
   ]
  },
  {
   "cell_type": "code",
   "execution_count": 8,
   "id": "53824e6f-37b7-4b13-8316-8eb4eed007bd",
   "metadata": {
    "scrolled": true,
    "tags": []
   },
   "outputs": [
    {
     "data": {
      "text/plain": [
       "[('I', 'PRON'),\n",
       " (\"'ve\", 'VERB'),\n",
       " ('been', 'VERB'),\n",
       " ('reading', 'VERB'),\n",
       " ('with', 'ADP'),\n",
       " ('an', 'DET'),\n",
       " ('e-reader', 'NOUN'),\n",
       " ('for', 'ADP'),\n",
       " ('years', 'NOUN'),\n",
       " ('.', '.'),\n",
       " ('Mostly', 'ADV'),\n",
       " ('a', 'DET'),\n",
       " ('Kobo', 'NOUN'),\n",
       " ('.', '.'),\n",
       " ('Also', 'ADV'),\n",
       " ('have', 'VERB'),\n",
       " ('the', 'DET'),\n",
       " ('Kobo', 'NOUN'),\n",
       " ('Forma', 'NOUN'),\n",
       " (',', '.'),\n",
       " ('great', 'ADJ'),\n",
       " ('e-reader', 'NOUN'),\n",
       " ('.', '.'),\n",
       " ('But', 'CONJ'),\n",
       " ('I', 'PRON'),\n",
       " ('was', 'VERB'),\n",
       " ('always', 'ADV'),\n",
       " ('curious', 'ADJ'),\n",
       " ('about', 'ADP'),\n",
       " ('the', 'DET'),\n",
       " ('Kindle', 'NOUN'),\n",
       " ('.', '.'),\n",
       " ('Now', 'ADV'),\n",
       " ('ordered', 'VERB'),\n",
       " ('the', 'DET'),\n",
       " ('Kindle', 'NOUN'),\n",
       " ('with', 'ADP'),\n",
       " ('Amazon.nl', 'NOUN'),\n",
       " ('and', 'CONJ'),\n",
       " ('I', 'PRON'),\n",
       " (\"'m\", 'VERB'),\n",
       " ('very', 'ADV'),\n",
       " ('happy', 'ADJ'),\n",
       " ('with', 'ADP'),\n",
       " ('it', 'PRON'),\n",
       " ('!', '.'),\n",
       " ('Nice', 'NOUN'),\n",
       " ('small', 'ADJ'),\n",
       " ('size', 'NOUN'),\n",
       " ('.', '.'),\n",
       " ('Fits', 'VERB'),\n",
       " ('almost', 'ADV'),\n",
       " ('in', 'ADP'),\n",
       " ('my', 'PRON'),\n",
       " ('pocket', 'NOUN'),\n",
       " ('.', '.'),\n",
       " ('Fantastic', 'ADJ'),\n",
       " ('dictionaries', 'NOUN'),\n",
       " ('and', 'CONJ'),\n",
       " ('great', 'ADJ'),\n",
       " ('ease', 'NOUN'),\n",
       " ('of', 'ADP'),\n",
       " ('reading', 'VERB'),\n",
       " ('.', '.'),\n",
       " ('I', 'PRON'),\n",
       " ('can', 'VERB'),\n",
       " ('see', 'VERB'),\n",
       " ('that', 'ADP'),\n",
       " ('there', 'DET'),\n",
       " ('are', 'VERB'),\n",
       " ('years', 'NOUN'),\n",
       " ('of', 'ADP'),\n",
       " ('experience', 'NOUN'),\n",
       " ('with', 'ADP'),\n",
       " ('e-readers', 'NOUN'),\n",
       " ('behind', 'ADP'),\n",
       " ('this', 'DET'),\n",
       " ('.', '.'),\n",
       " ('Super', 'NOUN'),\n",
       " ('purchase', 'NOUN'),\n",
       " ('.', '.')]"
      ]
     },
     "execution_count": 8,
     "metadata": {},
     "output_type": "execute_result"
    }
   ],
   "source": [
    "for review in review_list:\n",
    "    word_list = nltk.word_tokenize(review)\n",
    "    pos_list = nltk.pos_tag(word_list, tagset='universal')\n",
    "pos_list"
   ]
  },
  {
   "cell_type": "markdown",
   "id": "10c852ef-2095-40e0-8529-2f78917a815a",
   "metadata": {},
   "source": [
    "**Extracting adjectives from part of speech word list**\n",
    "- Extract words that is tagged as 'ADJ' (adjectives)"
   ]
  },
  {
   "cell_type": "code",
   "execution_count": 9,
   "id": "5e40165b-f640-4fad-acbc-a4a01f4ca44c",
   "metadata": {},
   "outputs": [
    {
     "data": {
      "text/plain": [
       "['great', 'curious', 'happy', 'small', 'Fantastic', 'great']"
      ]
     },
     "execution_count": 9,
     "metadata": {},
     "output_type": "execute_result"
    }
   ],
   "source": [
    "for review in review_list:\n",
    "    word_list = nltk.word_tokenize(review)\n",
    "    pos_list = nltk.pos_tag(word_list, tagset='universal')\n",
    "    adj_list = [word[0] for word in pos_list if word[1] == 'ADJ']\n",
    "adj_list"
   ]
  },
  {
   "cell_type": "markdown",
   "id": "6bb523d1-d082-49d8-b262-8cedf30455e0",
   "metadata": {},
   "source": [
    "**Calculate sentiment score**"
   ]
  },
  {
   "cell_type": "code",
   "execution_count": 10,
   "id": "26fb2f7d-31a0-4d3e-b0f1-6cce53d35f13",
   "metadata": {},
   "outputs": [
    {
     "data": {
      "text/plain": [
       "4"
      ]
     },
     "execution_count": 10,
     "metadata": {},
     "output_type": "execute_result"
    }
   ],
   "source": [
    "for review in review_list:\n",
    "    sentiment_score = 0\n",
    "    word_list = nltk.word_tokenize(review)\n",
    "    pos_list = nltk.pos_tag(word_list, tagset='universal')\n",
    "    adj_list = [word[0] for word in pos_list if word[1] == 'ADJ']\n",
    "    for adjective in adj_list:\n",
    "        if adjective.lower() in positive_word_list:\n",
    "            sentiment_score += 1\n",
    "        if adjective.lower() in negative_word_list:\n",
    "            sentiment_score -= 1\n",
    "\n",
    "sentiment_score           "
   ]
  },
  {
   "cell_type": "code",
   "execution_count": null,
   "id": "4edb21b3-5ed2-48ff-b646-7d12d48d972f",
   "metadata": {},
   "outputs": [],
   "source": []
  }
 ],
 "metadata": {
  "kernelspec": {
   "display_name": "Python 3 (ipykernel)",
   "language": "python",
   "name": "python3"
  },
  "language_info": {
   "codemirror_mode": {
    "name": "ipython",
    "version": 3
   },
   "file_extension": ".py",
   "mimetype": "text/x-python",
   "name": "python",
   "nbconvert_exporter": "python",
   "pygments_lexer": "ipython3",
   "version": "3.10.4"
  }
 },
 "nbformat": 4,
 "nbformat_minor": 5
}
